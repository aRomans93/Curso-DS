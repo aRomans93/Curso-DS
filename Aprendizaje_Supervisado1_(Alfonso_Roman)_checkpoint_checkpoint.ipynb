{
  "nbformat": 4,
  "nbformat_minor": 0,
  "metadata": {
    "colab": {
      "name": "Aprendizaje_Supervisado1_(Alfonso_Roman)-checkpoint-checkpoint.ipynb",
      "version": "0.3.2",
      "provenance": [],
      "include_colab_link": true
    },
    "language_info": {
      "codemirror_mode": {
        "name": "ipython",
        "version": 2
      },
      "file_extension": ".py",
      "mimetype": "text/x-python",
      "name": "python",
      "nbconvert_exporter": "python",
      "pygments_lexer": "ipython2",
      "version": "2.7.15"
    },
    "kernelspec": {
      "display_name": "Python 2",
      "language": "python",
      "name": "python2"
    }
  },
  "cells": [
    {
      "cell_type": "markdown",
      "metadata": {
        "id": "view-in-github",
        "colab_type": "text"
      },
      "source": [
        "<a href=\"https://colab.research.google.com/github/aRomans93/Curso-DS/blob/master/Aprendizaje_Supervisado1_(Alfonso_Roman)_checkpoint_checkpoint.ipynb\" target=\"_parent\"><img src=\"https://colab.research.google.com/assets/colab-badge.svg\" alt=\"Open In Colab\"/></a>"
      ]
    },
    {
      "cell_type": "markdown",
      "metadata": {
        "colab_type": "text",
        "id": "H_7_mh5ntYh_"
      },
      "source": [
        "# Práctico de Aprendizaje Supervisado I\n",
        "\n",
        "En este práctico aprenderemos cómo armar un pipeline de clasificación desde 0 con Scikit-Learn. Para ello aprenderemos creando un clasificador que aprenda a detectar cáncer de mama!\n",
        "\n",
        "Antes de comenzar: este es un práctico evaluativo. Se evaluarán las implementaciones, comentarios del código y buenas prácticas de programación.\n",
        "\n",
        "Bueno... manos a la obra!\n",
        "---\n",
        "\n",
        "Primero importamos las dependencias"
      ]
    },
    {
      "cell_type": "code",
      "metadata": {
        "colab_type": "code",
        "id": "baqNpeHTvYnq",
        "colab": {}
      },
      "source": [
        "from sklearn.svm import SVC # Support Vector Machine\n",
        "from sklearn.linear_model import LogisticRegression # LogisticRegression\n",
        "from sklearn.naive_bayes import GaussianNB # Gaussian Naive Bayes\n",
        "from sklearn.datasets import load_breast_cancer, load_iris# Carga de datos\n",
        "from sklearn.model_selection import GridSearchCV # Grid Search\n",
        "from sklearn.decomposition import PCA # Para visualización\n",
        "from mpl_toolkits.mplot3d import Axes3D # Para visualización\n",
        "\n",
        "import math\n",
        "\n",
        "import numpy as np # Cálculo numérico\n",
        "import pandas as pd # Para visualización\n",
        "import matplotlib.pyplot as plt # Para visualización\n"
      ],
      "execution_count": 0,
      "outputs": []
    },
    {
      "cell_type": "markdown",
      "metadata": {
        "colab_type": "text",
        "id": "0YRWsJ_R0ykF"
      },
      "source": [
        "## Paso 1: procesar los datos\n",
        "\n",
        "Lo primero que tenemos que hacer para comenzar con nuestro pipeline es cargar el dataset.\n",
        "\n",
        "El dataset de Breast Cancer tiene dos clases, correspondientes al diagnóstico: (B)enigno o (M)aligno, por lo que es un problema de clasificación binaria. Cuenta con 569 entradas, cada una de 30 dimensiones que contienen las siguientes características: Radio (media de la distancia del centro a los puntos de los perímetros), Textura (desviación estandar en escala de grises), Perímetro, Area, etc.\n",
        "\n",
        "\n",
        "\n"
      ]
    },
    {
      "cell_type": "code",
      "metadata": {
        "colab_type": "code",
        "id": "YXNxqJou3bRG",
        "outputId": "7cb6f09f-1d28-486a-983b-25a79a8ee012",
        "colab": {
          "base_uri": "https://localhost:8080/",
          "height": 320
        }
      },
      "source": [
        "# Cargar el dataset, por un lado las features, por otro lado las anotaciones\n",
        "Xdata, Ylabels = load_breast_cancer(return_X_y=True)\n",
        "\n",
        "print(\"Breast Cancer, tamaño: {}\".format(Xdata.shape))\n",
        "\n",
        "fig = plt.figure()\n",
        "\n",
        "# Plottear en 3D\n",
        "# ax = fig.add_subplot(111, projection='3d')\n",
        "# pca = PCA(n_components=3)\n",
        "# proj = pca.fit_transform(Xdata)\n",
        "# positive = proj[np.where(Ylabels == 1)]\n",
        "# negative = proj[np.where(Ylabels == 0)]\n",
        "# ax.scatter(positive[:,0], positive[:,1], positive[:,2], c='r', marker='x')\n",
        "# ax.scatter(negative[:,0], negative[:,1], negative[:,2], c='b', marker='o')\n",
        "\n",
        "# Plottear en 2D\n",
        "ax = fig.add_subplot(111)\n",
        "pca = PCA(n_components=2)\n",
        "proj = pca.fit_transform(Xdata)\n",
        "positive = proj[np.where(Ylabels == 1)]\n",
        "negative = proj[np.where(Ylabels == 0)]\n",
        "ax.scatter(positive[:,0], positive[:,1], c='r', marker='x')\n",
        "ax.scatter(negative[:,0], negative[:,1], c='b', marker='o')\n",
        "\n",
        "\n",
        "fig.show()"
      ],
      "execution_count": 2,
      "outputs": [
        {
          "output_type": "stream",
          "text": [
            "Breast Cancer, tamaño: (569, 30)\n"
          ],
          "name": "stdout"
        },
        {
          "output_type": "stream",
          "text": [
            "/usr/local/lib/python2.7/dist-packages/matplotlib/figure.py:457: UserWarning: matplotlib is currently using a non-GUI backend, so cannot show the figure\n",
            "  \"matplotlib is currently using a non-GUI backend, \"\n"
          ],
          "name": "stderr"
        },
        {
          "output_type": "display_data",
          "data": {
            "image/png": "[encoded data removed]",
            "text/plain": [
              "<Figure size 432x288 with 1 Axes>"
            ]
          },
          "metadata": {
            "tags": []
          }
        }
      ]
    },
    {
      "cell_type": "markdown",
      "metadata": {
        "colab_type": "text",
        "id": "Yd6CYacX5qnE"
      },
      "source": [
        "Nuestra tarea ahora es dividir el conjunto de datos en 3 partes: train, dev y test. Para ello, crearemos una función para poder separar el conjunto dados los porcentajes del dataset que queremos usar para cada uno."
      ]
    },
    {
      "cell_type": "code",
      "metadata": {
        "colab_type": "code",
        "id": "i5bzP2YY6f85",
        "colab": {}
      },
      "source": [
        "def split_dataset(data, train=0.8, dev=0.1, test=0.1):\n",
        "  \"\"\"\n",
        "  Función para separar el dataset en train, dev y test.\n",
        "  \n",
        "  Parametros\n",
        "  ----------  \n",
        "  data: una tupla (X,Y) donde X son los vectores de features e Y es el vector\n",
        "        de las anotaciones\n",
        "  train: porcentaje del dataset que será destinado para el conjunto de train\n",
        "  dev: porcentaje del dataset que será destinado para el conjunto de dev\n",
        "  test: porcentaje del dataset que será destinado para el conjunto de test\n",
        "  \n",
        "  Retorna\n",
        "  -------\n",
        "  out: una tupla (train_set, dev_set, test_set) donde cada uno es una tupla\n",
        "       (X, Y).\n",
        "  \"\"\"\n",
        "  np.random.seed(0) # Para poder reproducir resultados\n",
        "  assert(len(data[0]) == len(data[1]))\n",
        "  train_set, dev_set, test_set = [], [], []\n",
        "\n",
        "  m = len(data[0]) # Tamaño del dataset\n",
        "  \n",
        "  # COMPLETAR\n",
        "  # Pista: np.random.permutation permuta aleatoriamente un arreglo\n",
        "  indice1 = round(train*m)\n",
        "  indice2 = indice1 + round(dev*m)\n",
        "  indices_permutation = np.split(np.random.permutation(np.arange(m)), [indice1, indice2, m])\n",
        "  train_set = (data[0][list(indices_permutation[0])], data[1][list(indices_permutation[0])])\n",
        "  dev_set = (data[0][list(indices_permutation[1])], data[1][list(indices_permutation[1])])\n",
        "  test_set = (data[0][list(indices_permutation[2])], data[1][list(indices_permutation[2])])\n",
        "  \n",
        "  # COMPLETAR\n",
        "  \n",
        "  return (train_set, dev_set, test_set)"
      ],
      "execution_count": 0,
      "outputs": []
    },
    {
      "cell_type": "code",
      "metadata": {
        "colab_type": "code",
        "id": "awdrsNO98vmN",
        "colab": {},
        "outputId": "c240e0b4-b88d-4ad3-b68d-16fa27fa5cb8"
      },
      "source": [
        "train_set, dev_set, test_set = split_dataset((Xdata, Ylabels))\n",
        "\n",
        "print(\"Tamaño de las particiones:\")\n",
        "print(\"Train: {}\".format(len(train_set[0])))\n",
        "print(\"Dev: {}\".format(len(dev_set[0])))\n",
        "print(\"Test: {}\".format(len(test_set[0])))\n",
        "\n",
        "assert((len(train_set[0]) + len(dev_set[0]) + len(test_set[0])) == len(Xdata))"
      ],
      "execution_count": 0,
      "outputs": [
        {
          "output_type": "stream",
          "text": [
            "Tamaño de las particiones:\n",
            "Train: 455\n",
            "Dev: 56\n",
            "Test: 58\n"
          ],
          "name": "stdout"
        }
      ]
    },
    {
      "cell_type": "markdown",
      "metadata": {
        "colab_type": "text",
        "id": "GH6vz8LpaZV1"
      },
      "source": [
        "## Paso 2: Elegir nuestro Clasificador\n",
        "\n",
        "En este segundo paso, vamos a elegir el clasificador que queremos usar.\n",
        "\n",
        "Scikit-Learn hace muy fácil instanciar y entrenar clasificadores. Todos los clasificadores cuentan con:\n",
        "\n",
        "\n",
        "\n",
        "*   Una clase para instanciar el clasificador. En este momento se toman todas las decisiones de hiperparámetros.\n",
        "*   Un método .fit(X,Y) que dados datos X y anotaciones Y, entrena el clasificador.\n",
        "\n",
        "En este práctico usaremos [SVM](https://scikit-learn.org/stable/modules/generated/sklearn.svm.SVC.html#sklearn.svm.SVC).\n"
      ]
    },
    {
      "cell_type": "code",
      "metadata": {
        "colab_type": "code",
        "id": "HdEa5oNQdbMT",
        "colab": {},
        "outputId": "18bb77ce-08f5-48b8-f30d-938c16be9f3f"
      },
      "source": [
        "# Usamos Support Vector Machines\n",
        "clf = SVC(C=1, kernel='rbf')\n",
        "\n",
        "clf"
      ],
      "execution_count": 0,
      "outputs": [
        {
          "output_type": "execute_result",
          "data": {
            "text/plain": [
              "SVC(C=1, cache_size=200, class_weight=None, coef0=0.0,\n",
              "  decision_function_shape='ovr', degree=3, gamma='auto_deprecated',\n",
              "  kernel='rbf', max_iter=-1, probability=False, random_state=None,\n",
              "  shrinking=True, tol=0.001, verbose=False)"
            ]
          },
          "metadata": {
            "tags": []
          },
          "execution_count": 58
        }
      ]
    },
    {
      "cell_type": "markdown",
      "metadata": {
        "colab_type": "text",
        "id": "blS1g5lxfwwG"
      },
      "source": [
        "## Paso 3: Entrenar\n",
        "\n",
        "Una vez elegido nuestro clasificador, vamos a entrenar.\n",
        "\n",
        "Todos las clases de clasificadores de Scikit-Learn tienen un método \".fit\" con el cual se entrenan."
      ]
    },
    {
      "cell_type": "code",
      "metadata": {
        "colab_type": "code",
        "id": "kBVYVTPCgXyv",
        "colab": {},
        "outputId": "3eef1991-77de-4e1c-99aa-96bb73f3ecd7"
      },
      "source": [
        "Xtrain, Ytrain = train_set\n",
        "\n",
        "# COMPLETAR\n",
        "clf.fit(Xtrain, Ytrain)\n",
        "# COMPLETAR"
      ],
      "execution_count": 0,
      "outputs": [
        {
          "output_type": "stream",
          "text": [
            "C:\\Users\\alfonso.roman\\AppData\\Local\\Continuum\\anaconda3\\lib\\site-packages\\sklearn\\svm\\base.py:196: FutureWarning: The default value of gamma will change from 'auto' to 'scale' in version 0.22 to account better for unscaled features. Set gamma explicitly to 'auto' or 'scale' to avoid this warning.\n",
            "  \"avoid this warning.\", FutureWarning)\n"
          ],
          "name": "stderr"
        },
        {
          "output_type": "execute_result",
          "data": {
            "text/plain": [
              "SVC(C=1, cache_size=200, class_weight=None, coef0=0.0,\n",
              "  decision_function_shape='ovr', degree=3, gamma='auto_deprecated',\n",
              "  kernel='rbf', max_iter=-1, probability=False, random_state=None,\n",
              "  shrinking=True, tol=0.001, verbose=False)"
            ]
          },
          "metadata": {
            "tags": []
          },
          "execution_count": 59
        }
      ]
    },
    {
      "cell_type": "code",
      "metadata": {
        "colab_type": "code",
        "id": "nMBcJ3XMg9f1",
        "colab": {},
        "outputId": "147e8f09-c319-4b6a-dbd3-a60fc048945e"
      },
      "source": [
        "# Para usar predict, los datos deben tener shape (1, n)\n",
        "# donde n es la cantidad de features de los datos\n",
        "dr = (1, Xdata.shape[1])\n",
        "\n",
        "clf.predict(np.reshape(Xdata[0], dr))"
      ],
      "execution_count": 0,
      "outputs": [
        {
          "output_type": "execute_result",
          "data": {
            "text/plain": [
              "array([1])"
            ]
          },
          "metadata": {
            "tags": []
          },
          "execution_count": 60
        }
      ]
    },
    {
      "cell_type": "markdown",
      "metadata": {
        "colab_type": "text",
        "id": "G02aIC2JicWU"
      },
      "source": [
        "Scikit-Learn devuelve un numpy.array con la clase predicha por el clasificador.\n",
        "\n",
        "Con esto, ya podemos medir performance."
      ]
    },
    {
      "cell_type": "markdown",
      "metadata": {
        "colab_type": "text",
        "id": "wJYFPj6tkyuF"
      },
      "source": [
        "## Paso 4: Definir y reportar métricas\n",
        "\n",
        "Para poder dar una medida cuantitativa de la performance de nuestro clasificador, nos basamos en métricas automáticas.\n",
        "\n",
        "En este práctico vamos a reportar Accuracy. Accuracy está definida como:\n",
        "\n",
        "\n",
        "\n",
        "\n",
        "> `Accuracy = (TP + TN) / (TP+TN+FP+FN)`\n",
        "\n",
        "donde TP = True positive (ejemplos correctamente reportados como positivos), FP = False positive (ejemplos erroneamente reportados como positivos), TN = True negative (ejemplos correctamente reportados como negativos) y FN = False negative (ejemplos erroneamente reportados como negativos).\n",
        "\n",
        "En nuestro caso, dado nuestro dataset, consideraremos la clase 0 como \"maligno\" y 1 como \"benigno\". Nuestra clase negativa será la clase 0 y la positiva la clase 1.\n",
        "\n",
        "\n"
      ]
    },
    {
      "cell_type": "code",
      "metadata": {
        "colab_type": "code",
        "id": "4_LRNXA5n_Rk",
        "colab": {}
      },
      "source": [
        "def accuracy(predictions, true_labels):\n",
        "  \"\"\"\n",
        "  Calcula la accuracy basada en las predicciones.\n",
        "  \n",
        "  Parametros\n",
        "  ----------  \n",
        "  predictions: numpy.array de predicciones donde cada una es 0 o 1\n",
        "  \n",
        "  true_labels: numpy.array de anotaciones de la verdadera clase de cada ejemplo\n",
        "               clasificado\n",
        "  \n",
        "  Retorna\n",
        "  -------\n",
        "  out: float que representa la accurary en la clasificación.\n",
        "  \"\"\"\n",
        "  # COMPLETAR\n",
        "  m = len(predictions) # Tamaño del arreglo\n",
        "  predictions_positive = np.sum(predictions) # Número de predicciones positivas\n",
        "  predictions_negative = m - predictions_positive # Número de predicciones negativas\n",
        "  tp = np.sum(predictions*true_labels) # Verdaderos positivos\n",
        "  tn = m - np.count_nonzero(predictions+true_labels) # Verdaderos negativos\n",
        "  fp = predictions_positive - tp # Falsos positivos\n",
        "  fn = predictions_negative - tn # Falsos negativos\n",
        "  # COMPLETAR\n",
        "  \n",
        "  return float(tp+tn) / (tp+tn+fp+fn)"
      ],
      "execution_count": 0,
      "outputs": []
    },
    {
      "cell_type": "code",
      "metadata": {
        "colab_type": "code",
        "id": "HxvV8tGlAK1I",
        "colab": {}
      },
      "source": [
        "def predict(data, clf):\n",
        "  \"\"\"\n",
        "  Predice los valores en data con el clasificador clf.\n",
        "  \n",
        "  Parametros\n",
        "  ----------  \n",
        "  data: numpy.array de valores a predecir\n",
        "  \n",
        "  clf: clasificador instanciado con scikit-learn\n",
        "  \n",
        "  Retorna\n",
        "  -------\n",
        "  out: numpy.array con las predicciones para cada ejemplo\n",
        "  \"\"\"\n",
        "  # COMPLETAR\n",
        "  dr = (1, data.shape[1])\n",
        "  predictions = []\n",
        "    \n",
        "  for i in range(len(data)):\n",
        "    predictions.append(int(clf.predict(np.reshape(data[i], dr))))\n",
        "  # COMPLETAR\n",
        "  \n",
        "  return np.array(predictions)"
      ],
      "execution_count": 0,
      "outputs": []
    },
    {
      "cell_type": "code",
      "metadata": {
        "colab_type": "code",
        "id": "jHNWiSVGqr5r",
        "colab": {},
        "outputId": "afd72c50-4435-4d66-e1ad-b718071d8a99"
      },
      "source": [
        "Xtest, Ytest = test_set\n",
        "\n",
        "pred_train = predict(Xtrain, clf)\n",
        "pred_test  = predict(Xtest, clf)\n",
        "\n",
        "print(\"Accuracy del modelo en train: {}\".format(accuracy(pred_train, Ytrain)))\n",
        "print(\"Accuracy del modelo en test: {}\".format(accuracy(pred_test, Ytest)))\n",
        "  "
      ],
      "execution_count": 0,
      "outputs": [
        {
          "output_type": "stream",
          "text": [
            "287 168 0 0\n",
            "Accuracy del modelo en train: 1.0\n",
            "33 0 25 0\n",
            "Accuracy del modelo en test: 0.5689655172413793\n"
          ],
          "name": "stdout"
        }
      ]
    },
    {
      "cell_type": "markdown",
      "metadata": {
        "colab_type": "text",
        "id": "QS8GkPJ-kQFW"
      },
      "source": [
        "##### Resultado Esperado\n",
        "\n",
        "<table>\n",
        "<tr>\n",
        "    <td> \n",
        "    Accuracy del modelo en train:\n",
        "    </td>\n",
        "    <td> \n",
        "    1.0\n",
        "    </td>\n",
        "</tr>\n",
        "\n",
        "<tr>\n",
        "    <td> \n",
        "    Accuracy del modelo en test:\n",
        "    </td>\n",
        "    <td> \n",
        "    0.5535714285714286\n",
        "    </td>\n",
        "    </td>\n",
        "</tr>"
      ]
    },
    {
      "cell_type": "markdown",
      "metadata": {
        "colab_type": "text",
        "id": "0CNeAR0ZjzW_"
      },
      "source": [
        "## Interpretación de Resultados\n",
        "\n",
        "Viendo los resultados podemos notar algo: tenemos la accuracy máxima en el conjunto de train y una accuracy baja en el conjunto de test.\n",
        "\n",
        "Este es un clásico caso de ***Overfitting***.\n",
        "\n",
        "**Ejercicio:** A qué se debe esto?\n",
        "\n",
        "\n",
        "\n"
      ]
    },
    {
      "cell_type": "markdown",
      "metadata": {
        "colab_type": "text",
        "id": "odpsL8ZNrtiJ"
      },
      "source": [
        "___\n",
        "Respuesta de \\<Nombre>:\n",
        "---\n",
        "\n",
        "\\<Completar>\n",
        "___"
      ]
    },
    {
      "cell_type": "markdown",
      "metadata": {
        "colab_type": "text",
        "id": "6aK4Q4_9xiUy"
      },
      "source": [
        "# Pipeline extendido\n",
        "\n",
        "Ahora implementaremos el pipeline completo, con el ajuste de hiperparámetros.\n",
        "\n",
        "Para eso veamos los hiperparámetros de SVC:\n",
        "\n",
        "\n",
        "\n",
        "*   C: Término de penalidad para la función de pérdida (default=1.0)\n",
        "*   kernel: Especifica la función de kernel a ser usada por el algoritmo (default='rbf')\n",
        "    otras opciones son: 'linear', 'poly', 'rbf', 'sigmoid', 'precompute' o una función llamable.\n",
        "    \n",
        "    \n",
        "Vamos a buscar cuál es la mejor configuración de valor de C y kernel. Probaremos, con fines de simplicidad, con kernels 'linear', 'poly' y 'rbf'.\n",
        "\n",
        "Para eso emplearemos [Cross Validation](https://scikit-learn.org/stable/modules/generated/sklearn.model_selection.GridSearchCV.html).\n"
      ]
    },
    {
      "cell_type": "code",
      "metadata": {
        "colab_type": "code",
        "id": "QvQEw4Dx7zNi",
        "colab": {}
      },
      "source": [
        "np.random.seed(0) # Para poder reproducir resultados\n",
        "\n",
        "# Instanciamos un nuevo clasificador\n",
        "svc = SVC()\n",
        "\n",
        "hparams = {'kernel':('linear', 'rbf'), 'C':[1,3]}\n",
        "\n",
        "clf = GridSearchCV(svc, hparams)\n",
        "\n",
        "clf.fit(Xtrain, Ytrain)\n"
      ],
      "execution_count": 0,
      "outputs": []
    },
    {
      "cell_type": "code",
      "metadata": {
        "colab_type": "code",
        "id": "_IFSAYYY7xBO",
        "colab": {}
      },
      "source": [
        "# Seleccionar el mejor clasificador\n",
        "best_clf = clf.best_estimator_\n",
        "\n",
        "# Mostrar resultados de la Cross Validation\n",
        "pd.DataFrame(clf.cv_results_)"
      ],
      "execution_count": 0,
      "outputs": []
    },
    {
      "cell_type": "code",
      "metadata": {
        "colab_type": "code",
        "id": "cbsYOSqG8mKh",
        "colab": {}
      },
      "source": [
        "pred_best = predict(Xtest, best_clf)\n",
        "\n",
        "print(pred_best)\n",
        "print(\"Accuracy del modelo en test: {}\".format(accuracy(pred_test, Ytest)))\n",
        "\n"
      ],
      "execution_count": 0,
      "outputs": []
    },
    {
      "cell_type": "markdown",
      "metadata": {
        "colab_type": "text",
        "id": "dWbNtYhDlp5W"
      },
      "source": [
        "# Ahora es su turno:\n",
        "\n",
        "Hagan su propio pipeline para clasificación y reporten resultados. Dado que Scikit-Learn maneja la validación con GridSearchCV, vamos a separar el conjunto Xdata en train y test con las siguientes proporciones\n",
        "\n",
        "\n",
        "\n",
        "*   train: 85%\n",
        "*   test: 15%\n",
        "\n",
        "Se pide:\n",
        "\n",
        "\n",
        "1.   Separar el dataset.\n",
        "2.   Entrenar el nuevo modelo.\n",
        "3.   Reportar los parámetros del modelo.\n",
        "4.   Reportar accuracy en conjunto de train y de test.\n",
        "\n",
        "No se evaluará performance del modelo, sino la legibilidad del código, **los comentarios** del mismo y las buenas prácticas de programación."
      ]
    },
    {
      "cell_type": "code",
      "metadata": {
        "colab_type": "code",
        "id": "VzcpoNBllpB6",
        "colab": {}
      },
      "source": [
        "np.random.seed(0)\n",
        "\n",
        "train_set, _, test_set = [], [], [] # COMPLETAR\n",
        "assert((len(train_data) + len(test_data)) == len(Xdata))\n",
        "\n",
        "# TU PIPELINE VIENE AQUI\n",
        "# NO SE OLVIDEN DE LOS COMENTARIOS"
      ],
      "execution_count": 0,
      "outputs": []
    }
  ]
}